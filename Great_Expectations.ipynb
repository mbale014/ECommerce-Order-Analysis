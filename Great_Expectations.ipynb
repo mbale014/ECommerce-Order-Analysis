{
 "cells": [
  {
   "cell_type": "markdown",
   "id": "ededc1e7",
   "metadata": {},
   "source": [
    "=================================================\n",
    "\n",
    "Great expecations ecommerce order analysis\n",
    "\n",
    "Nama  : Muhammad iqbal      \n",
    "\n",
    "Pada bagian ini akan dilakukan validasi data untuk melihat kualitas data dengan mengggunakan Great expectations.\n",
    "Adapun dataset yang dipakai adalah dataset mengenai performa pengiriman jasa pesan antar di platform luar negeri.\n",
    "\n",
    "================================================="
   ]
  },
  {
   "cell_type": "markdown",
   "id": "d7beead2",
   "metadata": {},
   "source": [
    "# Import library"
   ]
  },
  {
   "cell_type": "markdown",
   "id": "8bd313d5",
   "metadata": {},
   "source": [
    "Dilakukan import library yg dibutuhkan untuk great expectations"
   ]
  },
  {
   "cell_type": "code",
   "execution_count": null,
   "id": "ed432643",
   "metadata": {},
   "outputs": [],
   "source": [
    "# Install the library\n",
    "\n",
    "#!pip install -q \"great-expectations==0.18.19\" \"numpy==1.24.3\""
   ]
  },
  {
   "cell_type": "code",
   "execution_count": 1,
   "id": "d165cad2",
   "metadata": {},
   "outputs": [],
   "source": [
    "#Import library\n",
    "\n",
    "import great_expectations as gx\n",
    "from great_expectations.data_context import FileDataContext\n",
    "import os"
   ]
  },
  {
   "cell_type": "code",
   "execution_count": 2,
   "id": "990a42f7",
   "metadata": {},
   "outputs": [
    {
     "data": {
      "text/plain": [
       "'0.18.19'"
      ]
     },
     "execution_count": 2,
     "metadata": {},
     "output_type": "execute_result"
    }
   ],
   "source": [
    "# check versi\n",
    "\n",
    "gx.__version__"
   ]
  },
  {
   "cell_type": "markdown",
   "id": "cfef9494",
   "metadata": {},
   "source": [
    "# Create data context"
   ]
  },
  {
   "cell_type": "markdown",
   "id": "c87d1bc9",
   "metadata": {},
   "source": [
    "Membuat data context sebagai entri poin utama untuk great expectations. Disini saya akan buat di folder baru bernama `great_expectations`"
   ]
  },
  {
   "cell_type": "code",
   "execution_count": 3,
   "id": "f30cdace",
   "metadata": {},
   "outputs": [
    {
     "data": {
      "text/plain": [
       "[]"
      ]
     },
     "execution_count": 3,
     "metadata": {},
     "output_type": "execute_result"
    }
   ],
   "source": [
    "# Make new folder\n",
    "os.makedirs(\"./great_expectations\", exist_ok=True)\n",
    "\n",
    "# Create data context\n",
    "context = FileDataContext.create(project_root_dir = \"./great_expectations\")\n",
    "context.list_datasources()"
   ]
  },
  {
   "cell_type": "markdown",
   "id": "06c135af",
   "metadata": {},
   "source": [
    "# Connect to datasource"
   ]
  },
  {
   "cell_type": "markdown",
   "id": "6cc45b95",
   "metadata": {},
   "source": [
    "Menghubungkan dataset ke great expectations sebagai datasource"
   ]
  },
  {
   "cell_type": "code",
   "execution_count": 4,
   "id": "de1c32cd",
   "metadata": {},
   "outputs": [],
   "source": [
    "# Give a name to a Datasource. This name must be unique between Datasources.\n",
    "datasource_name = 'csv-data-delivery-iqbal'\n",
    "datasource = context.sources.add_pandas(datasource_name)\n",
    "\n",
    "# Give a name to a data asset\n",
    "asset_name = 'delivery-online-iqbal'\n",
    "path_to_data = './P2M3_muhammad_iqbal_data_clean.csv'\n",
    "asset = datasource.add_csv_asset(asset_name, filepath_or_buffer=path_to_data)\n",
    "\n",
    "# Build batch request\n",
    "batch_request = asset.build_batch_request()"
   ]
  },
  {
   "cell_type": "markdown",
   "id": "305e3936",
   "metadata": {},
   "source": [
    "# Create expectation suite"
   ]
  },
  {
   "cell_type": "code",
   "execution_count": 5,
   "id": "c7f2a04a",
   "metadata": {},
   "outputs": [
    {
     "data": {
      "application/vnd.jupyter.widget-view+json": {
       "model_id": "b35c6d9a96e040109010e0328926faa2",
       "version_major": 2,
       "version_minor": 0
      },
      "text/plain": [
       "Calculating Metrics:   0%|          | 0/1 [00:00<?, ?it/s]"
      ]
     },
     "metadata": {},
     "output_type": "display_data"
    },
    {
     "data": {
      "text/html": [
       "<div>\n",
       "<style scoped>\n",
       "    .dataframe tbody tr th:only-of-type {\n",
       "        vertical-align: middle;\n",
       "    }\n",
       "\n",
       "    .dataframe tbody tr th {\n",
       "        vertical-align: top;\n",
       "    }\n",
       "\n",
       "    .dataframe thead th {\n",
       "        text-align: right;\n",
       "    }\n",
       "</style>\n",
       "<table border=\"1\" class=\"dataframe\">\n",
       "  <thead>\n",
       "    <tr style=\"text-align: right;\">\n",
       "      <th></th>\n",
       "      <th>order_id</th>\n",
       "      <th>customer_id</th>\n",
       "      <th>platform</th>\n",
       "      <th>order_date_&amp;_time</th>\n",
       "      <th>delivery_time_minutes</th>\n",
       "      <th>product_category</th>\n",
       "      <th>order_value_inr</th>\n",
       "      <th>customer_feedback</th>\n",
       "      <th>service_rating</th>\n",
       "      <th>delivery_delay</th>\n",
       "      <th>refund_requested</th>\n",
       "    </tr>\n",
       "  </thead>\n",
       "  <tbody>\n",
       "    <tr>\n",
       "      <th>0</th>\n",
       "      <td>ORD000001</td>\n",
       "      <td>CUST2824</td>\n",
       "      <td>JioMart</td>\n",
       "      <td>1900-01-01 00:19:29.500</td>\n",
       "      <td>30</td>\n",
       "      <td>Fruits &amp; Vegetables</td>\n",
       "      <td>382</td>\n",
       "      <td>Fast delivery, great service!</td>\n",
       "      <td>5</td>\n",
       "      <td>No</td>\n",
       "      <td>No</td>\n",
       "    </tr>\n",
       "    <tr>\n",
       "      <th>1</th>\n",
       "      <td>ORD000002</td>\n",
       "      <td>CUST1409</td>\n",
       "      <td>Blinkit</td>\n",
       "      <td>1900-01-01 00:54:29.500</td>\n",
       "      <td>16</td>\n",
       "      <td>Dairy</td>\n",
       "      <td>279</td>\n",
       "      <td>Quick and reliable!</td>\n",
       "      <td>5</td>\n",
       "      <td>No</td>\n",
       "      <td>No</td>\n",
       "    </tr>\n",
       "    <tr>\n",
       "      <th>2</th>\n",
       "      <td>ORD000003</td>\n",
       "      <td>CUST5506</td>\n",
       "      <td>JioMart</td>\n",
       "      <td>1900-01-01 00:21:29.500</td>\n",
       "      <td>25</td>\n",
       "      <td>Beverages</td>\n",
       "      <td>599</td>\n",
       "      <td>Items missing from order.</td>\n",
       "      <td>2</td>\n",
       "      <td>No</td>\n",
       "      <td>Yes</td>\n",
       "    </tr>\n",
       "    <tr>\n",
       "      <th>3</th>\n",
       "      <td>ORD000004</td>\n",
       "      <td>CUST5012</td>\n",
       "      <td>JioMart</td>\n",
       "      <td>1900-01-01 00:19:29.500</td>\n",
       "      <td>42</td>\n",
       "      <td>Beverages</td>\n",
       "      <td>946</td>\n",
       "      <td>Items missing from order.</td>\n",
       "      <td>2</td>\n",
       "      <td>Yes</td>\n",
       "      <td>Yes</td>\n",
       "    </tr>\n",
       "    <tr>\n",
       "      <th>4</th>\n",
       "      <td>ORD000005</td>\n",
       "      <td>CUST4657</td>\n",
       "      <td>Blinkit</td>\n",
       "      <td>1900-01-01 00:49:29.500</td>\n",
       "      <td>30</td>\n",
       "      <td>Beverages</td>\n",
       "      <td>334</td>\n",
       "      <td>Fast delivery, great service!</td>\n",
       "      <td>5</td>\n",
       "      <td>No</td>\n",
       "      <td>No</td>\n",
       "    </tr>\n",
       "  </tbody>\n",
       "</table>\n",
       "</div>"
      ],
      "text/plain": [
       "    order_id customer_id platform        order_date_&_time  \\\n",
       "0  ORD000001    CUST2824  JioMart  1900-01-01 00:19:29.500   \n",
       "1  ORD000002    CUST1409  Blinkit  1900-01-01 00:54:29.500   \n",
       "2  ORD000003    CUST5506  JioMart  1900-01-01 00:21:29.500   \n",
       "3  ORD000004    CUST5012  JioMart  1900-01-01 00:19:29.500   \n",
       "4  ORD000005    CUST4657  Blinkit  1900-01-01 00:49:29.500   \n",
       "\n",
       "   delivery_time_minutes     product_category  order_value_inr  \\\n",
       "0                     30  Fruits & Vegetables              382   \n",
       "1                     16                Dairy              279   \n",
       "2                     25            Beverages              599   \n",
       "3                     42            Beverages              946   \n",
       "4                     30            Beverages              334   \n",
       "\n",
       "               customer_feedback  service_rating delivery_delay  \\\n",
       "0  Fast delivery, great service!               5             No   \n",
       "1            Quick and reliable!               5             No   \n",
       "2      Items missing from order.               2             No   \n",
       "3      Items missing from order.               2            Yes   \n",
       "4  Fast delivery, great service!               5             No   \n",
       "\n",
       "  refund_requested  \n",
       "0               No  \n",
       "1               No  \n",
       "2              Yes  \n",
       "3              Yes  \n",
       "4               No  "
      ]
     },
     "execution_count": 5,
     "metadata": {},
     "output_type": "execute_result"
    }
   ],
   "source": [
    "# Creat an expectation suite\n",
    "expectation_suite_name = 'expectation-delivery-dataset-iqbal'\n",
    "context.add_or_update_expectation_suite(expectation_suite_name)\n",
    "\n",
    "# Create a validator using above expectation suite\n",
    "validator = context.get_validator(\n",
    "    batch_request = batch_request,\n",
    "    expectation_suite_name = expectation_suite_name\n",
    ")\n",
    "\n",
    "# Check the validator\n",
    "validator.head()"
   ]
  },
  {
   "cell_type": "markdown",
   "id": "a29528c2",
   "metadata": {},
   "source": [
    "# Expectations"
   ]
  },
  {
   "cell_type": "markdown",
   "id": "370b13ec",
   "metadata": {},
   "source": [
    "Pada bagian ini akan dilakukan validasi data dengan expectations diantarnya :\n",
    "\n",
    "- to be unique\n",
    "- to be between min_value and max_value\n",
    "- to be in set\n",
    "- to be in type list\n",
    "- row count to be between min_value and max_value\n",
    "- mean value to be between min_value and max_value\n",
    "- regex match"
   ]
  },
  {
   "cell_type": "code",
   "execution_count": 6,
   "id": "fb6eef2c",
   "metadata": {},
   "outputs": [
    {
     "data": {
      "application/vnd.jupyter.widget-view+json": {
       "model_id": "e6a50199f7f44944bc4516a995374856",
       "version_major": 2,
       "version_minor": 0
      },
      "text/plain": [
       "Calculating Metrics:   0%|          | 0/8 [00:00<?, ?it/s]"
      ]
     },
     "metadata": {},
     "output_type": "display_data"
    },
    {
     "data": {
      "text/plain": [
       "{\n",
       "  \"result\": {\n",
       "    \"element_count\": 100000,\n",
       "    \"unexpected_count\": 0,\n",
       "    \"unexpected_percent\": 0.0,\n",
       "    \"partial_unexpected_list\": [],\n",
       "    \"missing_count\": 0,\n",
       "    \"missing_percent\": 0.0,\n",
       "    \"unexpected_percent_total\": 0.0,\n",
       "    \"unexpected_percent_nonmissing\": 0.0\n",
       "  },\n",
       "  \"success\": true,\n",
       "  \"exception_info\": {\n",
       "    \"raised_exception\": false,\n",
       "    \"exception_traceback\": null,\n",
       "    \"exception_message\": null\n",
       "  },\n",
       "  \"meta\": {}\n",
       "}"
      ]
     },
     "execution_count": 6,
     "metadata": {},
     "output_type": "execute_result"
    }
   ],
   "source": [
    "# Expectation 1 : Column `order_id` must be unique\n",
    "\n",
    "validator.expect_column_values_to_be_unique('order_id')"
   ]
  },
  {
   "cell_type": "code",
   "execution_count": 7,
   "id": "9721209d",
   "metadata": {},
   "outputs": [
    {
     "data": {
      "application/vnd.jupyter.widget-view+json": {
       "model_id": "ba93789f538041c9977d54c74b1d9552",
       "version_major": 2,
       "version_minor": 0
      },
      "text/plain": [
       "Calculating Metrics:   0%|          | 0/8 [00:00<?, ?it/s]"
      ]
     },
     "metadata": {},
     "output_type": "display_data"
    },
    {
     "data": {
      "text/plain": [
       "{\n",
       "  \"result\": {\n",
       "    \"element_count\": 100000,\n",
       "    \"unexpected_count\": 0,\n",
       "    \"unexpected_percent\": 0.0,\n",
       "    \"partial_unexpected_list\": [],\n",
       "    \"missing_count\": 0,\n",
       "    \"missing_percent\": 0.0,\n",
       "    \"unexpected_percent_total\": 0.0,\n",
       "    \"unexpected_percent_nonmissing\": 0.0\n",
       "  },\n",
       "  \"success\": true,\n",
       "  \"exception_info\": {\n",
       "    \"raised_exception\": false,\n",
       "    \"exception_traceback\": null,\n",
       "    \"exception_message\": null\n",
       "  },\n",
       "  \"meta\": {}\n",
       "}"
      ]
     },
     "execution_count": 7,
     "metadata": {},
     "output_type": "execute_result"
    }
   ],
   "source": [
    "# Expectation 2 : Column `service_rating` must be less than equal 5\n",
    "\n",
    "validator.expect_column_values_to_be_between(\n",
    "    column='service_rating', min_value=0, max_value=5\n",
    ")"
   ]
  },
  {
   "cell_type": "code",
   "execution_count": 8,
   "id": "b410ea8c",
   "metadata": {},
   "outputs": [
    {
     "data": {
      "application/vnd.jupyter.widget-view+json": {
       "model_id": "5ffb681d81254e2883380228c2330738",
       "version_major": 2,
       "version_minor": 0
      },
      "text/plain": [
       "Calculating Metrics:   0%|          | 0/8 [00:00<?, ?it/s]"
      ]
     },
     "metadata": {},
     "output_type": "display_data"
    },
    {
     "data": {
      "text/plain": [
       "{\n",
       "  \"result\": {\n",
       "    \"element_count\": 100000,\n",
       "    \"unexpected_count\": 0,\n",
       "    \"unexpected_percent\": 0.0,\n",
       "    \"partial_unexpected_list\": [],\n",
       "    \"missing_count\": 0,\n",
       "    \"missing_percent\": 0.0,\n",
       "    \"unexpected_percent_total\": 0.0,\n",
       "    \"unexpected_percent_nonmissing\": 0.0\n",
       "  },\n",
       "  \"success\": true,\n",
       "  \"exception_info\": {\n",
       "    \"raised_exception\": false,\n",
       "    \"exception_traceback\": null,\n",
       "    \"exception_message\": null\n",
       "  },\n",
       "  \"meta\": {}\n",
       "}"
      ]
     },
     "execution_count": 8,
     "metadata": {},
     "output_type": "execute_result"
    }
   ],
   "source": [
    "# Expectation 3 : Column `delivery_delay` must contain one of the following 2 things :\n",
    "# Yes and No \n",
    "\n",
    "\n",
    "validator.expect_column_values_to_be_in_set('delivery_delay', [\"Yes\", \"No\"])"
   ]
  },
  {
   "cell_type": "code",
   "execution_count": 9,
   "id": "de728b52",
   "metadata": {},
   "outputs": [
    {
     "data": {
      "application/vnd.jupyter.widget-view+json": {
       "model_id": "4e994f13c0374f1da2da2a21356d059e",
       "version_major": 2,
       "version_minor": 0
      },
      "text/plain": [
       "Calculating Metrics:   0%|          | 0/1 [00:00<?, ?it/s]"
      ]
     },
     "metadata": {},
     "output_type": "display_data"
    },
    {
     "data": {
      "text/plain": [
       "{\n",
       "  \"result\": {\n",
       "    \"observed_value\": \"int64\"\n",
       "  },\n",
       "  \"success\": true,\n",
       "  \"exception_info\": {\n",
       "    \"raised_exception\": false,\n",
       "    \"exception_traceback\": null,\n",
       "    \"exception_message\": null\n",
       "  },\n",
       "  \"meta\": {}\n",
       "}"
      ]
     },
     "execution_count": 9,
     "metadata": {},
     "output_type": "execute_result"
    }
   ],
   "source": [
    "# Expectation 4 : Column `order_value_inr` must in form of integer64 or float\n",
    "\n",
    "validator.expect_column_values_to_be_in_type_list('order_value_inr', ['int64', 'float'])"
   ]
  },
  {
   "cell_type": "code",
   "execution_count": 10,
   "id": "ca57c932",
   "metadata": {},
   "outputs": [
    {
     "data": {
      "application/vnd.jupyter.widget-view+json": {
       "model_id": "918668a9d995475e9f6bae12da12f8ce",
       "version_major": 2,
       "version_minor": 0
      },
      "text/plain": [
       "Calculating Metrics:   0%|          | 0/1 [00:00<?, ?it/s]"
      ]
     },
     "metadata": {},
     "output_type": "display_data"
    },
    {
     "data": {
      "text/plain": [
       "{\n",
       "  \"result\": {\n",
       "    \"observed_value\": 100000\n",
       "  },\n",
       "  \"success\": true,\n",
       "  \"exception_info\": {\n",
       "    \"raised_exception\": false,\n",
       "    \"exception_traceback\": null,\n",
       "    \"exception_message\": null\n",
       "  },\n",
       "  \"meta\": {}\n",
       "}"
      ]
     },
     "execution_count": 10,
     "metadata": {},
     "output_type": "execute_result"
    }
   ],
   "source": [
    "# Expectation 5 : Row count must be between 50000 and 100000\n",
    "\n",
    "validator.expect_table_row_count_to_be_between(min_value=50000, max_value=100000)"
   ]
  },
  {
   "cell_type": "code",
   "execution_count": 11,
   "id": "7fe52da6",
   "metadata": {},
   "outputs": [
    {
     "data": {
      "application/vnd.jupyter.widget-view+json": {
       "model_id": "a2ffa836d42b4f51af843cd95a56b3ae",
       "version_major": 2,
       "version_minor": 0
      },
      "text/plain": [
       "Calculating Metrics:   0%|          | 0/4 [00:00<?, ?it/s]"
      ]
     },
     "metadata": {},
     "output_type": "display_data"
    },
    {
     "data": {
      "text/plain": [
       "{\n",
       "  \"result\": {\n",
       "    \"observed_value\": 29.53614\n",
       "  },\n",
       "  \"success\": true,\n",
       "  \"exception_info\": {\n",
       "    \"raised_exception\": false,\n",
       "    \"exception_traceback\": null,\n",
       "    \"exception_message\": null\n",
       "  },\n",
       "  \"meta\": {}\n",
       "}"
      ]
     },
     "execution_count": 11,
     "metadata": {},
     "output_type": "execute_result"
    }
   ],
   "source": [
    "# Expectation 6 : Column \"delivery_time_minutes\" the mean value must in between 20 and 30\n",
    "\n",
    "validator.expect_column_mean_to_be_between('delivery_time_minutes', min_value=20, max_value=30)"
   ]
  },
  {
   "cell_type": "code",
   "execution_count": 12,
   "id": "f5e67b0a",
   "metadata": {},
   "outputs": [
    {
     "data": {
      "application/vnd.jupyter.widget-view+json": {
       "model_id": "2d8015cd7f394cdbbc8b7d6ac1cebfd0",
       "version_major": 2,
       "version_minor": 0
      },
      "text/plain": [
       "Calculating Metrics:   0%|          | 0/8 [00:00<?, ?it/s]"
      ]
     },
     "metadata": {},
     "output_type": "display_data"
    },
    {
     "data": {
      "text/plain": [
       "{\n",
       "  \"result\": {\n",
       "    \"element_count\": 100000,\n",
       "    \"unexpected_count\": 0,\n",
       "    \"unexpected_percent\": 0.0,\n",
       "    \"partial_unexpected_list\": [],\n",
       "    \"missing_count\": 0,\n",
       "    \"missing_percent\": 0.0,\n",
       "    \"unexpected_percent_total\": 0.0,\n",
       "    \"unexpected_percent_nonmissing\": 0.0\n",
       "  },\n",
       "  \"success\": true,\n",
       "  \"exception_info\": {\n",
       "    \"raised_exception\": false,\n",
       "    \"exception_traceback\": null,\n",
       "    \"exception_message\": null\n",
       "  },\n",
       "  \"meta\": {}\n",
       "}"
      ]
     },
     "execution_count": 12,
     "metadata": {},
     "output_type": "execute_result"
    }
   ],
   "source": [
    "# Expectation 7 : Column \"customer_id\" must have `CUST` and then followed by number \n",
    "\n",
    "validator.expect_column_values_to_match_regex('customer_id', r'^CUST[0-9]')"
   ]
  },
  {
   "cell_type": "code",
   "execution_count": 13,
   "id": "bd2f46a6",
   "metadata": {},
   "outputs": [],
   "source": [
    "# Save into Expectation Suite\n",
    "\n",
    "validator.save_expectation_suite(discard_failed_expectations=False)"
   ]
  },
  {
   "cell_type": "code",
   "execution_count": 14,
   "id": "d8963a69",
   "metadata": {},
   "outputs": [
    {
     "data": {
      "text/plain": [
       "{'local_site': 'file://d:\\\\FTDS hacktiv8\\\\Phase 2\\\\Challenge and assigment\\\\project-m3\\\\great_expectations\\\\gx\\\\uncommitted/data_docs/local_site/index.html'}"
      ]
     },
     "execution_count": 14,
     "metadata": {},
     "output_type": "execute_result"
    }
   ],
   "source": [
    "# Build data docs\n",
    "\n",
    "context.build_data_docs()"
   ]
  }
 ],
 "metadata": {
  "kernelspec": {
   "display_name": "py3_9",
   "language": "python",
   "name": "python3"
  },
  "language_info": {
   "codemirror_mode": {
    "name": "ipython",
    "version": 3
   },
   "file_extension": ".py",
   "mimetype": "text/x-python",
   "name": "python",
   "nbconvert_exporter": "python",
   "pygments_lexer": "ipython3",
   "version": "3.9.21"
  }
 },
 "nbformat": 4,
 "nbformat_minor": 5
}
